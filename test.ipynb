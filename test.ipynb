{
 "cells": [
  {
   "cell_type": "markdown",
   "id": "1dbdd5b2-5e75-4af5-907f-dbacad007a4f",
   "metadata": {},
   "source": [
    "# Flowchart: Mini Voice Bot for Customer Support\n",
    "\n",
    "```mermaid\n",
    "graph TD\n",
    "    A[Start: User interacts with Voice Bot] --> B[Voice Bot Greets User]\n",
    "    B --> C{Is User Interested?}\n",
    "    C --> D[User Says Yes]\n",
    "    C --> E[User Says No]\n",
    "    C --> F[User Asks for More Info]\n",
    "    C --> G[User Silent or No Response]\n",
    "\n",
    "    D --> H[Provide Tenure Options: 3, 6, 9, 12 Months]\n",
    "    H --> I[User Selects Tenure]\n",
    "    I --> J[Bot Confirms EMI Details]\n",
    "    J --> K[User Confirms Request]\n",
    "    K --> L[Thank You Message & End]\n",
    "\n",
    "    E --> M[Bot Acknowledges and Ends Interaction]\n",
    "    \n",
    "    F --> N[Bot Explains Benefits of EMI Conversion]\n",
    "    N --> H\n",
    "\n",
    "    G --> O[Bot Repeats Question or Ends]\n"
   ]
  },
  {
   "cell_type": "code",
   "execution_count": null,
   "id": "693d330e-4d77-4eda-a6c1-53ba57453b07",
   "metadata": {},
   "outputs": [],
   "source": []
  },
  {
   "cell_type": "code",
   "execution_count": null,
   "id": "43e8b654-9793-4b60-b5de-6226f484125b",
   "metadata": {},
   "outputs": [],
   "source": []
  },
  {
   "cell_type": "code",
   "execution_count": null,
   "id": "4af60dff-3878-4772-8662-8feeb3c2421b",
   "metadata": {},
   "outputs": [],
   "source": []
  },
  {
   "cell_type": "markdown",
   "id": "be4eb6fa-ff0c-451c-8144-a934c0c6dfef",
   "metadata": {},
   "source": [
    "## Customer Input Processing"
   ]
  },
  {
   "cell_type": "code",
   "execution_count": 21,
   "id": "71ae7206-fd05-4603-b91c-f5ff35b2265b",
   "metadata": {},
   "outputs": [],
   "source": [
    "def process_input(user_input):\n",
    "    \"\"\"\n",
    "    Process user input and return a matched rule response.\n",
    "    \"\"\"\n",
    "    if not user_input or user_input.strip() == \"\":\n",
    "        return \"silent\"\n",
    "    elif \"yes\" in user_input.lower() or \"interested\" in user_input.lower():\n",
    "        return \"interested\"\n",
    "    elif \"no\" in user_input.lower() or \"not interested\" in user_input.lower():\n",
    "        return \"not_interested\"\n",
    "    elif \"call later\" in user_input.lower() or \"busy\" in user_input.lower():\n",
    "        return \"call_later\"\n",
    "    elif user_input.isdigit():\n",
    "        return \"tenure\"\n",
    "    else:\n",
    "        return \"unknown\"\n"
   ]
  },
  {
   "cell_type": "code",
   "execution_count": null,
   "id": "ea4405a3-0411-4c3d-8103-59c54c5ad762",
   "metadata": {},
   "outputs": [],
   "source": [
    "Define Chatbot Logic"
   ]
  },
  {
   "cell_type": "markdown",
   "id": "b11994df-32d5-4e95-9f41-7e920d637aa9",
   "metadata": {},
   "source": [
    "## Rule-Based Decision Handling"
   ]
  },
  {
   "cell_type": "code",
   "execution_count": 23,
   "id": "cdb6b5b5-dacd-4d0c-a1e7-8c41ae7f7a74",
   "metadata": {},
   "outputs": [],
   "source": [
    "def decision_tree(input_type, params=None):\n",
    "    \"\"\"\n",
    "    Decision tree logic for chatbot responses.\n",
    "    \"\"\"\n",
    "    if input_type == \"silent\":\n",
    "        return \"Sorry, I missed your response. Can you confirm if you'd be interested in converting your balance to EMI?\"\n",
    "\n",
    "    elif input_type == \"interested\":\n",
    "        return \"That's a great choice! You can convert your credit card balance into easy EMIs. Please choose your tenure: [3, 6, 9, 12 months].\"\n",
    "\n",
    "    elif input_type == \"not_interested\":\n",
    "        return \"Alright, but this is the best opportunity to lower your interest rates and improve your credit history. Do you wish to reconsider?\"\n",
    "\n",
    "    elif input_type == \"call_later\":\n",
    "        return \"Okay! I understand you are busy. I will call you later. Have a nice day.\"\n",
    "\n",
    "    elif input_type == \"unknown\":\n",
    "        return \"I'm sorry, I didn't quite understand that. Could you repeat?\"\n",
    "\n",
    "    elif input_type == \"calculate_emi\":\n",
    "        principal = params.get(\"principal\", 50000)  # Default principal amount\n",
    "        annual_rate = params.get(\"rate\", 12)       # Default interest rate\n",
    "        tenure = params.get(\"tenure\", 6)           # Default tenure\n",
    "        emi = calculate_emi(principal, annual_rate, tenure)\n",
    "        return f\"Your EMI for {tenure} months will be INR {emi}. Would you like to proceed?\"\n",
    "\n",
    "    else:\n",
    "        return \"An error occurred.\"\n"
   ]
  },
  {
   "cell_type": "code",
   "execution_count": null,
   "id": "8a5cdbd7-7491-4c8f-8fb3-714e148b7989",
   "metadata": {},
   "outputs": [],
   "source": []
  },
  {
   "cell_type": "markdown",
   "id": "2cb4db62-5361-457d-b18e-0fb5c9be0ab6",
   "metadata": {},
   "source": [
    "## EMI Calculation"
   ]
  },
  {
   "cell_type": "code",
   "execution_count": 25,
   "id": "c6a3ee16-7060-405f-9e22-312cd258cbc9",
   "metadata": {},
   "outputs": [],
   "source": [
    "def calculate_emi(principal, annual_rate, tenure_months):\n",
    "    \"\"\"\n",
    "    Calculate EMI based on principal, annual interest rate, and tenure in months.\n",
    "    \"\"\"\n",
    "    monthly_rate = annual_rate / (12 * 100)  # Convert annual rate to monthly rate\n",
    "    emi = (principal * monthly_rate * (1 + monthly_rate)**tenure_months) / ((1 + monthly_rate)**tenure_months - 1)\n",
    "    return round(emi, 2)\n"
   ]
  },
  {
   "cell_type": "code",
   "execution_count": null,
   "id": "26414ef0-05e2-4914-88f8-2ab6e1074c14",
   "metadata": {},
   "outputs": [],
   "source": []
  },
  {
   "cell_type": "markdown",
   "id": "5ef786d5-bd31-42b5-ae6a-ed793be5401c",
   "metadata": {},
   "source": [
    "## Simulate Chatbot Interaction"
   ]
  },
  {
   "cell_type": "code",
   "execution_count": 27,
   "id": "aa79ba93-bcf5-4f13-94bd-63ae0a38a588",
   "metadata": {},
   "outputs": [],
   "source": [
    "def chatbot_conversation():\n",
    "    print(\"Voicebot: Hi! Would you like to explore EMI options for your credit card balance?\")\n",
    "    while True:\n",
    "        user_input = input(\"You: \")\n",
    "        input_type = process_input(user_input)\n",
    "\n",
    "        # Handle responses dynamically\n",
    "        if input_type == \"interested\":\n",
    "            print(\"Voicebot:\", decision_tree(input_type))\n",
    "            user_tenure = input(\"You: \")  # User selects tenure\n",
    "            if user_tenure.isdigit():\n",
    "                params = {\"principal\": 50000, \"rate\": 12, \"tenure\": int(user_tenure)}\n",
    "                response = decision_tree(\"calculate_emi\", params)\n",
    "                print(\"Voicebot:\", response)\n",
    "        elif input_type == \"tenure\":\n",
    "            print(\"Voicebot: Please choose a valid tenure [3, 6, 9, 12 months].\")\n",
    "        else:\n",
    "            response = decision_tree(input_type)\n",
    "            print(\"Voicebot:\", response)\n",
    "\n",
    "        # Exit condition\n",
    "        if input_type in [\"not_interested\", \"call_later\"]:\n",
    "            print(\"Voicebot: Thank you for your time. Have a nice day!\")\n",
    "            break\n"
   ]
  },
  {
   "cell_type": "code",
   "execution_count": 36,
   "id": "f8d7f598-58ab-4e17-aa27-df87423a7640",
   "metadata": {},
   "outputs": [
    {
     "name": "stdout",
     "output_type": "stream",
     "text": [
      "Voicebot: Hi! Would you like to explore EMI options for your credit card balance?\n"
     ]
    },
    {
     "name": "stdin",
     "output_type": "stream",
     "text": [
      "You:  yes\n"
     ]
    },
    {
     "name": "stdout",
     "output_type": "stream",
     "text": [
      "Voicebot: That's a great choice! You can convert your credit card balance into easy EMIs. Please choose your tenure: [3, 6, 9, 12 months].\n"
     ]
    },
    {
     "name": "stdin",
     "output_type": "stream",
     "text": [
      "You:  6\n"
     ]
    },
    {
     "name": "stdout",
     "output_type": "stream",
     "text": [
      "Voicebot: Your EMI for 6 months will be INR 8627.42. Would you like to proceed?\n"
     ]
    },
    {
     "name": "stdin",
     "output_type": "stream",
     "text": [
      "You:  \n"
     ]
    },
    {
     "name": "stdout",
     "output_type": "stream",
     "text": [
      "Voicebot: Sorry, I missed your response. Can you confirm if you'd be interested in converting your balance to EMI?\n"
     ]
    },
    {
     "name": "stdin",
     "output_type": "stream",
     "text": [
      "You:  no\n"
     ]
    },
    {
     "name": "stdout",
     "output_type": "stream",
     "text": [
      "Voicebot: Alright, but this is the best opportunity to lower your interest rates and improve your credit history. Do you wish to reconsider?\n",
      "Voicebot: Thank you for your time. Have a nice day!\n"
     ]
    }
   ],
   "source": [
    "# Start chatbot conversation\n",
    "chatbot_conversation()\n"
   ]
  },
  {
   "cell_type": "code",
   "execution_count": null,
   "id": "6a7d7e5d-b009-4f59-9358-4ea37f03cc17",
   "metadata": {},
   "outputs": [],
   "source": []
  }
 ],
 "metadata": {
  "kernelspec": {
   "display_name": "Python 3 (ipykernel)",
   "language": "python",
   "name": "python3"
  },
  "language_info": {
   "codemirror_mode": {
    "name": "ipython",
    "version": 3
   },
   "file_extension": ".py",
   "mimetype": "text/x-python",
   "name": "python",
   "nbconvert_exporter": "python",
   "pygments_lexer": "ipython3",
   "version": "3.12.4"
  }
 },
 "nbformat": 4,
 "nbformat_minor": 5
}
